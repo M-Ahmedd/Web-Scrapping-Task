{
 "cells": [
  {
   "cell_type": "code",
   "execution_count": 50,
   "metadata": {
    "collapsed": true
   },
   "outputs": [],
   "source": [
    "# Scrap Daraz Product\n",
    "from bs4 import BeautifulSoup\n",
    "import requests\n",
    "from selenium import webdriver"
   ]
  },
  {
   "cell_type": "code",
   "execution_count": 66,
   "metadata": {
    "collapsed": false
   },
   "outputs": [
    {
     "name": "stdout",
     "output_type": "stream",
     "text": [
      "RATED HourStorm #14 Aug 17, 09:00 AM PKT\n",
      "\n",
      "RATED August Circuits '19 Aug 23, 08:30 PM PKT\n",
      "\n",
      "HIRING AWS Software Developer Hiring Challenge Sep  6, 05:30 PM PKT\n",
      "\n"
     ]
    }
   ],
   "source": [
    "driver = webdriver.Chrome(executable_path=r'C:\\Users\\Ghazanfar\\Downloads\\chromedriver_win32\\chromedriver.exe')\n",
    "url = \"https://www.hackerearth.com/challenges/\"\n",
    "driver.get(url)\n",
    "#resp = requests.get(url)\n",
    "res = driver.execute_script(\"return document.documentElement.outerHTML\")\n",
    "soup = BeautifulSoup(res,\"lxml\")\n",
    "\n",
    "box = soup.find(\"div\",class_=\"upcoming challenge-list\")\n",
    "all_elem = box.find_all(\"div\",class_=\"challenge-card-modern\")\n",
    "for item in all_elem:\n",
    "    htype =item.find(\"div\",class_=\"challenge-type light smaller caps weight-600\").text.replace(\"\\n\",\" \").strip()\n",
    "    name = item.find(\"div\",class_=\"challenge-name ellipsis dark\").text.replace(\"\\n\",\" \").strip()\n",
    "    date = item.find(\"div\",class_=\"date less-margin dark\").text.replace(\"\\n\",\" \").strip()\n",
    "    print(htype,name,date)\n",
    "    print()"
   ]
  }
 ],
 "metadata": {
  "kernelspec": {
   "display_name": "Python 3",
   "language": "python",
   "name": "python3"
  },
  "language_info": {
   "codemirror_mode": {
    "name": "ipython",
    "version": 3
   },
   "file_extension": ".py",
   "mimetype": "text/x-python",
   "name": "python",
   "nbconvert_exporter": "python",
   "pygments_lexer": "ipython3",
   "version": "3.6.0"
  }
 },
 "nbformat": 4,
 "nbformat_minor": 2
}
