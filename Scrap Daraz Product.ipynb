{
 "cells": [
  {
   "cell_type": "code",
   "execution_count": 29,
   "metadata": {
    "collapsed": false
   },
   "outputs": [],
   "source": [
    "# Scrap Daraz Product\n",
    "import pandas as pd\n",
    "from selenium import webdriver\n",
    "from bs4 import BeautifulSoup\n",
    "import requests"
   ]
  },
  {
   "cell_type": "code",
   "execution_count": 47,
   "metadata": {
    "collapsed": false,
    "scrolled": true
   },
   "outputs": [
    {
     "name": "stdout",
     "output_type": "stream",
     "text": [
      "                                      Name of Product        Price\n",
      "0      Nokia 106 - 2018 - 1.8\" - Dual Sim - Dark Grey    Rs. 3,300\n",
      "1         150 - Dual Sim - Camera - Card Slot - White    Rs. 4,999\n",
      "2         150 - Dual Sim - Camera - Card Slot - Black    Rs. 4,999\n",
      "3         150 - Dual Sim - Camera - Card Slot - White    Rs. 5,050\n",
      "4   D140 - 3000 mah Battery - 2.8in Screen - HD Ca...    Rs. 2,199\n",
      "5   Apple iPhone XS Max - QHD+ Notch Display - Fac...  Rs. 229,999\n",
      "6   D140 - 3000 mah Battery - 2.8in Screen - HD Ca...    Rs. 2,290\n",
      "7   Samsung Galaxy A10 - 6.2\" HD+ Screen - 2 GB RA...   Rs. 22,329\n",
      "8   S3 Plus X573B - 5.7’’ - 4G - 4 GB RAM - 64 GB ...   Rs. 21,999\n",
      "9   Nova 3I - 6.3\" Full View Display 4Gb-Ram, 128G...   Rs. 38,999\n",
      "10                           Nokia 150 Dual Sim black    Rs. 5,300\n",
      "11  6.1 Plus - FHD+ Display - 4GB RAM - 64GB ROM -...   Rs. 26,899\n",
      "12                                  QMobile Tubelight    Rs. 2,198\n",
      "13  G Five G6600 3000mAh Dual Sim With One Year Of...    Rs. 2,089\n",
      "14  Infinix HOT 7 - 6.2\" HD Display - 1GB RAM - 16...   Rs. 14,999\n",
      "15  ETACHI E10 King - TRIPLE SIM Mobile Phone - 38...    Rs. 2,702\n",
      "16                                 QMobile Hero Music    Rs. 2,197\n",
      "17                                    Nokia 150 White    Rs. 5,300\n",
      "18  Q Mobile Blue 5 Finger Print Sensor 5Inch Disp...    Rs. 8,699\n",
      "19                               HUAWEI Y9 PRIME 2019   Rs. 37,499\n",
      "20  HONOR 8S Mobile Phone - 5.7\" HD Display - 2GB ...   Rs. 16,000\n",
      "21           HUAWEI P30 LITE   4GB-RAM,  128GB MEMORY   Rs. 41,999\n",
      "22  Samsung Galaxy Note 10 Plus - 12GB RAM - 256GB...  Rs. 204,999\n",
      "23                  ETachi E6 Triple SIM Mobile Phone    Rs. 2,450\n",
      "24            GFive Don 2.4\" Dual Sim 1 Year Warranty    Rs. 1,789\n",
      "25  Huawei P30 LITE Mobile Phone - 6.15\" - 4GB Ram...   Rs. 40,999\n",
      "26                            SAMSUNG GALAXY S10 PLUS  Rs. 159,999\n",
      "27                               Huawei Y9 Prime 2019   Rs. 39,499\n",
      "28                          130 2017 - 1.8 - Dual Sim    Rs. 3,999\n",
      "29  Nokia 106 Dual Sim Mobile Phone , 1.8inch Disp...    Rs. 3,275\n",
      "30                     216 - 2.4'' - 16MB RAM - Black    Rs. 5,895\n",
      "31  Galaxy J7 Pro - 5.5\" - 3Gb Ram - 16Gb Rom - Fi...   Rs. 34,999\n",
      "32                      Vivo V15 - 6GB RAM - 64GB ROM   Rs. 39,999\n",
      "33  Modern Study Lamp Use Long Flexible Swing Arm ...    Rs. 2,500\n",
      "34              3310 - Dual Sim - 2.4 Inch LCD - Grey    Rs. 8,200\n",
      "35                      One A9 - 32GB - Grey - 4G LTE   Rs. 19,099\n",
      "36  Realme 3 Mobile Phone - 6.2\" HD Display - 3GB ...   Rs. 23,749\n",
      "37                             Nokia130 dual sim 2017    Rs. 4,000\n",
      "38  Huawei P30 Pro - Display 6.47\" - Camera 40+20,...  Rs. 174,999\n",
      "39  Samsung Galaxy A20 - 3GB RAM - 32GB ROM - 6.4 ...   Rs. 30,699\n"
     ]
    }
   ],
   "source": [
    "driver = webdriver.Chrome(r\"C:\\Users\\Ghazanfar\\Downloads\\chromedriver_win32\\chromedriver.exe\")\n",
    "driver.get(\"https://www.daraz.pk/smartphones/?spm=a2a0e.official-store.cate_1.1.717f2894zBsZp4\")\n",
    "\n",
    "# html = driver.page_source\n",
    "response = driver.execute_script(\"return document.documentElement.outerHTML\")\n",
    "# url = \"https://www.daraz.pk/smartphones/?spm=a2a0e.official-store.cate_1.1.717f2894zBsZp4\"\n",
    "# response = requests.get(url)\n",
    "# response.status_code == requests.codes.ok\n",
    "name = []\n",
    "price = []\n",
    "soup = BeautifulSoup(response,\"html.parser\")\n",
    "box = soup.find_all(\"div\",class_=\"c2prKC\")\n",
    "for link in box:\n",
    "    name.append(link.find(\"div\",class_=\"c16H9d\").text.strip())\n",
    "\n",
    "for amount in box:\n",
    "    price.append(amount.find(\"div\",class_=\"c3gUW0\").text.strip())\n",
    "\n",
    "final_data = {\"Name of Product\":name , \"Price\":price}\n",
    "df = pd.DataFrame(final_data)\n",
    "print(df)\n",
    "\n",
    "driver.quit()"
   ]
  }
 ],
 "metadata": {
  "kernelspec": {
   "display_name": "Python 3",
   "language": "python",
   "name": "python3"
  },
  "language_info": {
   "codemirror_mode": {
    "name": "ipython",
    "version": 3
   },
   "file_extension": ".py",
   "mimetype": "text/x-python",
   "name": "python",
   "nbconvert_exporter": "python",
   "pygments_lexer": "ipython3",
   "version": "3.6.0"
  }
 },
 "nbformat": 4,
 "nbformat_minor": 2
}
